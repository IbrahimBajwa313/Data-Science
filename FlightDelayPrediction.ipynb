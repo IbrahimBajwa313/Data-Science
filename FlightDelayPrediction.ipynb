{
 "cells": [
  {
   "cell_type": "code",
   "execution_count": 126,
   "id": "ec48f9f9-52d5-434f-b6a4-1a3eb3f3799f",
   "metadata": {},
   "outputs": [],
   "source": [
    "import pandas as pd\n",
    "import numpy as np\n",
    "import matplotlib.pyplot as plt\n",
    "import seaborn as sns\n",
    "from sklearn.model_selection import train_test_split, GridSearchCV\n",
    "from sklearn.preprocessing import LabelEncoder, StandardScaler\n",
    "from sklearn.linear_model import LogisticRegression\n",
    "from sklearn.ensemble import RandomForestClassifier\n",
    "from xgboost import XGBClassifier\n",
    "from sklearn.metrics import accuracy_score, precision_score, recall_score, f1_score, roc_auc_score, confusion_matrix\n",
    "from imblearn.over_sampling import SMOTE\n",
    "from sklearn.decomposition import PCA\n",
    "import warnings\n",
    "warnings.filterwarnings('ignore')"
   ]
  },
  {
   "cell_type": "code",
   "execution_count": 127,
   "id": "8fbf0f7a-ffa5-4492-8e29-a615a8b6a288",
   "metadata": {},
   "outputs": [],
   "source": [
    "# Set random seed for reproducibility\n",
    "np.random.seed(42)"
   ]
  },
  {
   "cell_type": "markdown",
   "id": "271418df-b083-452f-b07a-84428a511f5d",
   "metadata": {},
   "source": [
    "# 1. Data Collection and Preprocessing"
   ]
  },
  {
   "cell_type": "code",
   "execution_count": 129,
   "id": "3e425e08-9777-4693-9589-4991af209625",
   "metadata": {},
   "outputs": [
    {
     "name": "stdout",
     "output_type": "stream",
     "text": [
      "Loading dataset...\n"
     ]
    }
   ],
   "source": [
    "# Load the dataset (assumes flights.csv is downloaded from Kaggle)\n",
    "print(\"Loading dataset...\")\n",
    "df = pd.read_csv(r\"C:\\Users\\SMART TECH\\Desktop\\AppliedNLPMaterial-master\\DataSets\\flights.csv\")\n",
    "\n",
    "# Sample a subset of the data (e.g., 100,000 rows)\n",
    "sample_size = 100000  # Adjust as needed (e.g., 500000 for larger sample)\n",
    "df = df.sample(n=sample_size, random_state=42)"
   ]
  },
  {
   "cell_type": "code",
   "execution_count": 130,
   "id": "fed8fce9-6826-4433-993f-a121714ebc30",
   "metadata": {},
   "outputs": [
    {
     "name": "stdout",
     "output_type": "stream",
     "text": [
      "Dataset Shape: (100000, 31)\n",
      "\n",
      "Missing Values:\n",
      " YEAR                       0\n",
      "MONTH                      0\n",
      "DAY                        0\n",
      "DAY_OF_WEEK                0\n",
      "AIRLINE                    0\n",
      "FLIGHT_NUMBER              0\n",
      "TAIL_NUMBER              260\n",
      "ORIGIN_AIRPORT             0\n",
      "DESTINATION_AIRPORT        0\n",
      "SCHEDULED_DEPARTURE        0\n",
      "DEPARTURE_TIME          1481\n",
      "DEPARTURE_DELAY         1481\n",
      "TAXI_OUT                1538\n",
      "WHEELS_OFF              1538\n",
      "SCHEDULED_TIME             0\n",
      "ELAPSED_TIME            1805\n",
      "AIR_TIME                1805\n",
      "DISTANCE                   0\n",
      "WHEELS_ON               1602\n",
      "TAXI_IN                 1602\n",
      "SCHEDULED_ARRIVAL          0\n",
      "ARRIVAL_TIME            1602\n",
      "ARRIVAL_DELAY           1805\n",
      "DIVERTED                   0\n",
      "CANCELLED                  0\n",
      "CANCELLATION_REASON    98446\n",
      "AIR_SYSTEM_DELAY       81646\n",
      "SECURITY_DELAY         81646\n",
      "AIRLINE_DELAY          81646\n",
      "LATE_AIRCRAFT_DELAY    81646\n",
      "WEATHER_DELAY          81646\n",
      "dtype: int64\n",
      "\n",
      "Data Types:\n",
      " YEAR                     int64\n",
      "MONTH                    int64\n",
      "DAY                      int64\n",
      "DAY_OF_WEEK              int64\n",
      "AIRLINE                 object\n",
      "FLIGHT_NUMBER            int64\n",
      "TAIL_NUMBER             object\n",
      "ORIGIN_AIRPORT          object\n",
      "DESTINATION_AIRPORT     object\n",
      "SCHEDULED_DEPARTURE      int64\n",
      "DEPARTURE_TIME         float64\n",
      "DEPARTURE_DELAY        float64\n",
      "TAXI_OUT               float64\n",
      "WHEELS_OFF             float64\n",
      "SCHEDULED_TIME         float64\n",
      "ELAPSED_TIME           float64\n",
      "AIR_TIME               float64\n",
      "DISTANCE                 int64\n",
      "WHEELS_ON              float64\n",
      "TAXI_IN                float64\n",
      "SCHEDULED_ARRIVAL        int64\n",
      "ARRIVAL_TIME           float64\n",
      "ARRIVAL_DELAY          float64\n",
      "DIVERTED                 int64\n",
      "CANCELLED                int64\n",
      "CANCELLATION_REASON     object\n",
      "AIR_SYSTEM_DELAY       float64\n",
      "SECURITY_DELAY         float64\n",
      "AIRLINE_DELAY          float64\n",
      "LATE_AIRCRAFT_DELAY    float64\n",
      "WEATHER_DELAY          float64\n",
      "dtype: object\n"
     ]
    }
   ],
   "source": [
    "# Exploratory Data Analysis (EDA)\n",
    "print(\"Dataset Shape:\", df.shape)\n",
    "print(\"\\nMissing Values:\\n\", df.isnull().sum())\n",
    "print(\"\\nData Types:\\n\", df.dtypes)"
   ]
  },
  {
   "cell_type": "code",
   "execution_count": 131,
   "id": "9e490030-6a40-4437-928d-203d1e1e1fdb",
   "metadata": {},
   "outputs": [
    {
     "name": "stdout",
     "output_type": "stream",
     "text": [
      "\n",
      "Class Distribution in Sample:\n",
      " DELAYED\n",
      "0    0.82308\n",
      "1    0.17692\n",
      "Name: proportion, dtype: float64\n"
     ]
    }
   ],
   "source": [
    "# Define delay threshold (arrival delay > 15 minutes)\n",
    "df['DELAYED'] = (df['ARRIVAL_DELAY'] > 15).astype(int)\n",
    "print(\"\\nClass Distribution in Sample:\\n\", df['DELAYED'].value_counts(normalize=True))\n"
   ]
  },
  {
   "cell_type": "code",
   "execution_count": 132,
   "id": "50564c0f-07be-46b9-a92c-a3d6304388ac",
   "metadata": {},
   "outputs": [
    {
     "name": "stdout",
     "output_type": "stream",
     "text": [
      "\n",
      "Class Distribution in Full Dataset:\n",
      " DELAYED\n",
      "0    0.824113\n",
      "1    0.175887\n",
      "Name: proportion, dtype: float64\n"
     ]
    }
   ],
   "source": [
    "# Compare class distribution with full dataset\n",
    "full_df = pd.read_csv(r\"C:\\Users\\SMART TECH\\Desktop\\AppliedNLPMaterial-master\\DataSets\\flights.csv\", usecols=['ARRIVAL_DELAY'])\n",
    "full_df['DELAYED'] = (full_df['ARRIVAL_DELAY'] > 15).astype(int)\n",
    "print(\"\\nClass Distribution in Full Dataset:\\n\", full_df['DELAYED'].value_counts(normalize=True))\n",
    "del full_df  # Free memory\n",
    "\n"
   ]
  },
  {
   "cell_type": "code",
   "execution_count": 133,
   "id": "36e7104d-67c2-4e67-9e7f-21f552378c5a",
   "metadata": {},
   "outputs": [
    {
     "data": {
      "image/png": "[encoded data removed]",
      "text/plain": [
       "<Figure size 600x400 with 1 Axes>"
      ]
     },
     "metadata": {},
     "output_type": "display_data"
    }
   ],
   "source": [
    "# Visualize class imbalance in sample\n",
    "plt.figure(figsize=(6, 4))\n",
    "sns.countplot(x='DELAYED', data=df)\n",
    "plt.title('Class Distribution in Sampled Data (Delayed vs Not Delayed)')\n",
    "plt.show()"
   ]
  },
  {
   "cell_type": "markdown",
   "id": "2cb4cdaf-320e-4144-88ef-e1da2fa4c1dd",
   "metadata": {},
   "source": [
    "# Handle missing values"
   ]
  },
  {
   "cell_type": "code",
   "execution_count": 135,
   "id": "23e2714c-33f4-4109-a155-50a2bfdc0163",
   "metadata": {},
   "outputs": [
    {
     "name": "stdout",
     "output_type": "stream",
     "text": [
      "Dataset Shape: (100000, 23)\n"
     ]
    }
   ],
   "source": [
    "# Drop columns with high missing values or irrelevant features\n",
    "columns_to_drop = ['CANCELLATION_REASON', 'AIR_SYSTEM_DELAY', 'SECURITY_DELAY', \n",
    "                   'AIRLINE_DELAY', 'LATE_AIRCRAFT_DELAY', 'WEATHER_DELAY', \n",
    "                   'TAIL_NUMBER', 'DIVERTED', 'CANCELLED']\n",
    "df = df.drop(columns=columns_to_drop)\n",
    "\n",
    "print(\"Dataset Shape:\", df.shape)"
   ]
  },
  {
   "cell_type": "code",
   "execution_count": 136,
   "id": "e93b789f-b466-4940-9d6d-312b5ea5e410",
   "metadata": {},
   "outputs": [
    {
     "name": "stdout",
     "output_type": "stream",
     "text": [
      "Dataset Shape: (100000, 23)\n"
     ]
    }
   ],
   "source": [
    "print(\"Dataset Shape:\", df.shape)"
   ]
  },
  {
   "cell_type": "markdown",
   "id": "e524be55-1522-4b9e-af14-f18fbb82297d",
   "metadata": {},
   "source": [
    "### Median Imputation for numerical values"
   ]
  },
  {
   "cell_type": "code",
   "execution_count": 138,
   "id": "c64e0d5c-445c-4acc-8569-ed07b818925d",
   "metadata": {},
   "outputs": [],
   "source": [
    "df['ARRIVAL_DELAY'] = df['ARRIVAL_DELAY'].fillna(df['ARRIVAL_DELAY'].median())\n",
    "df['DEPARTURE_DELAY'] = df['DEPARTURE_DELAY'].fillna(df['DEPARTURE_DELAY'].median())\n",
    "df['ARRIVAL_TIME'] = df['ARRIVAL_TIME'].fillna(df['ARRIVAL_TIME'].median())\n",
    "df['DEPARTURE_TIME'] = df['DEPARTURE_TIME'].fillna(df['DEPARTURE_TIME'].median())\n",
    "df['AIR_TIME'] = df['AIR_TIME'].fillna(df['AIR_TIME'].median())\n",
    "df['ELAPSED_TIME'] = df['ELAPSED_TIME'].fillna(df['ELAPSED_TIME'].median())\n"
   ]
  },
  {
   "cell_type": "code",
   "execution_count": 139,
   "id": "7ff40e35-2b36-452e-ab50-b3ebafb23163",
   "metadata": {},
   "outputs": [],
   "source": [
    "# Drop any remaining rows with missing values\n",
    "df = df.dropna()"
   ]
  },
  {
   "cell_type": "code",
   "execution_count": 140,
   "id": "0b137ea9-e56a-4813-a9a1-bf235b2f9e95",
   "metadata": {},
   "outputs": [],
   "source": [
    "# Extract time of day from DEPARTURE_TIME\n",
    "def get_time_of_day(time):\n",
    "    hour = int(time // 100)\n",
    "    if 5 <= hour < 12:\n",
    "        return 'Morning'\n",
    "    elif 12 <= hour < 17:\n",
    "        return 'Afternoon'\n",
    "    elif 17 <= hour < 22:\n",
    "        return 'Evening'\n",
    "    else:\n",
    "        return 'Night'\n",
    "\n",
    "df['TIME_OF_DAY'] = df['DEPARTURE_TIME'].apply(get_time_of_day)"
   ]
  },
  {
   "cell_type": "code",
   "execution_count": 141,
   "id": "924f73f8-4777-46e9-853c-bbb4c8391e87",
   "metadata": {},
   "outputs": [],
   "source": [
    "# Extract season from MONTH\n",
    "def get_season(month):\n",
    "    if month in [12, 1, 2]:\n",
    "        return 'Winter'\n",
    "    elif month in [3, 4, 5]:\n",
    "        return 'Spring'\n",
    "    elif month in [6, 7, 8]:\n",
    "        return 'Summer'\n",
    "    else:\n",
    "        return 'Fall'\n",
    "\n",
    "df['SEASON'] = df['MONTH'].apply(get_season)"
   ]
  },
  {
   "cell_type": "code",
   "execution_count": 142,
   "id": "94149574-a07b-469b-a1ea-77d72c6b3f33",
   "metadata": {},
   "outputs": [],
   "source": [
    "# Categorize distance\n",
    "df['DISTANCE_CATEGORY'] = pd.cut(df['DISTANCE'], \n",
    "                                bins=[0, 500, 1500, float('inf')], \n",
    "                                labels=['Short', 'Medium', 'Long']).astype('category')"
   ]
  },
  {
   "cell_type": "code",
   "execution_count": 143,
   "id": "41477d53-75ff-44c5-a1a4-013bfda17704",
   "metadata": {},
   "outputs": [],
   "source": [
    "# Encode high-cardinality categorical variables with LabelEncoder\n",
    "# Apply one-hot encoding to all categorical variables\n",
    "categorical_cols = ['AIRLINE', 'ORIGIN_AIRPORT', 'DESTINATION_AIRPORT', \n",
    "                   'TIME_OF_DAY', 'SEASON', 'DISTANCE_CATEGORY']\n",
    "df = pd.get_dummies(df, columns=categorical_cols, prefix=categorical_cols, dtype='int8')"
   ]
  },
  {
   "cell_type": "code",
   "execution_count": null,
   "id": "3eebe760-194b-44f9-a5cb-fe6ffb2522f2",
   "metadata": {},
   "outputs": [],
   "source": [
    "# Correlation analysis\n",
    "plt.figure(figsize=(10, 8))\n",
    "sns.heatmap(df.corr(), annot=True, cmap='coolwarm', fmt='.2f')\n",
    "plt.title('Correlation Matrix')\n",
    "plt.show()"
   ]
  },
  {
   "cell_type": "code",
   "execution_count": null,
   "id": "32e8dc5e-9a5d-410a-acfe-de4f0766f20c",
   "metadata": {},
   "outputs": [],
   "source": []
  },
  {
   "cell_type": "code",
   "execution_count": null,
   "id": "b1d28453-a282-4a4b-ad3e-cb8e8d216786",
   "metadata": {},
   "outputs": [],
   "source": []
  },
  {
   "cell_type": "code",
   "execution_count": null,
   "id": "04a5534d-97ea-4ec2-b37a-efe0b98bc058",
   "metadata": {},
   "outputs": [],
   "source": []
  },
  {
   "cell_type": "code",
   "execution_count": null,
   "id": "3bddad09-33fd-492f-a534-ebf3cc334c1a",
   "metadata": {},
   "outputs": [],
   "source": []
  },
  {
   "cell_type": "code",
   "execution_count": null,
   "id": "402e213c-ac1a-4fa3-8f02-baec6715fe12",
   "metadata": {},
   "outputs": [],
   "source": []
  },
  {
   "cell_type": "code",
   "execution_count": null,
   "id": "74580031-a190-4ed6-b62e-f61087c08278",
   "metadata": {},
   "outputs": [],
   "source": []
  },
  {
   "cell_type": "code",
   "execution_count": null,
   "id": "7356a7e3-84ea-438d-8a78-2916e00c16eb",
   "metadata": {},
   "outputs": [],
   "source": []
  },
  {
   "cell_type": "code",
   "execution_count": null,
   "id": "c763c38c-a376-44dc-8ecd-f5d4eeead661",
   "metadata": {},
   "outputs": [],
   "source": []
  }
 ],
 "metadata": {
  "kernelspec": {
   "display_name": "Python [conda env:base] *",
   "language": "python",
   "name": "conda-base-py"
  },
  "language_info": {
   "codemirror_mode": {
    "name": "ipython",
    "version": 3
   },
   "file_extension": ".py",
   "mimetype": "text/x-python",
   "name": "python",
   "nbconvert_exporter": "python",
   "pygments_lexer": "ipython3",
   "version": "3.12.7"
  }
 },
 "nbformat": 4,
 "nbformat_minor": 5
}
