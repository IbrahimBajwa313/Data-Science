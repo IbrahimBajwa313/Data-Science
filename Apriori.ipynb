{
 "cells": [
  {
   "cell_type": "code",
   "execution_count": 22,
   "id": "718c17fe-69a9-4af6-abc5-8cafa9eab405",
   "metadata": {},
   "outputs": [],
   "source": [
    "import pandas as pd\n",
    "from mlxtend.frequent_patterns import apriori, association_rules"
   ]
  },
  {
   "cell_type": "markdown",
   "id": "90f14dd4-a318-4d44-bfdf-b91ae67ca988",
   "metadata": {},
   "source": [
    "# Step 1: Load the Dataset"
   ]
  },
  {
   "cell_type": "code",
   "execution_count": 26,
   "id": "dc520d22-f077-4f30-926b-a848b5e9c634",
   "metadata": {},
   "outputs": [
    {
     "data": {
      "text/html": [
       "<div>\n",
       "<style scoped>\n",
       "    .dataframe tbody tr th:only-of-type {\n",
       "        vertical-align: middle;\n",
       "    }\n",
       "\n",
       "    .dataframe tbody tr th {\n",
       "        vertical-align: top;\n",
       "    }\n",
       "\n",
       "    .dataframe thead th {\n",
       "        text-align: right;\n",
       "    }\n",
       "</style>\n",
       "<table border=\"1\" class=\"dataframe\">\n",
       "  <thead>\n",
       "    <tr style=\"text-align: right;\">\n",
       "      <th></th>\n",
       "      <th>Quantity</th>\n",
       "      <th>InvoiceDate</th>\n",
       "      <th>UnitPrice</th>\n",
       "      <th>CustomerID</th>\n",
       "    </tr>\n",
       "  </thead>\n",
       "  <tbody>\n",
       "    <tr>\n",
       "      <th>count</th>\n",
       "      <td>541909.000000</td>\n",
       "      <td>541909</td>\n",
       "      <td>541909.000000</td>\n",
       "      <td>406829.000000</td>\n",
       "    </tr>\n",
       "    <tr>\n",
       "      <th>mean</th>\n",
       "      <td>9.552250</td>\n",
       "      <td>2011-07-04 13:34:57.156386048</td>\n",
       "      <td>4.611114</td>\n",
       "      <td>15287.690570</td>\n",
       "    </tr>\n",
       "    <tr>\n",
       "      <th>min</th>\n",
       "      <td>-80995.000000</td>\n",
       "      <td>2010-12-01 08:26:00</td>\n",
       "      <td>-11062.060000</td>\n",
       "      <td>12346.000000</td>\n",
       "    </tr>\n",
       "    <tr>\n",
       "      <th>25%</th>\n",
       "      <td>1.000000</td>\n",
       "      <td>2011-03-28 11:34:00</td>\n",
       "      <td>1.250000</td>\n",
       "      <td>13953.000000</td>\n",
       "    </tr>\n",
       "    <tr>\n",
       "      <th>50%</th>\n",
       "      <td>3.000000</td>\n",
       "      <td>2011-07-19 17:17:00</td>\n",
       "      <td>2.080000</td>\n",
       "      <td>15152.000000</td>\n",
       "    </tr>\n",
       "    <tr>\n",
       "      <th>75%</th>\n",
       "      <td>10.000000</td>\n",
       "      <td>2011-10-19 11:27:00</td>\n",
       "      <td>4.130000</td>\n",
       "      <td>16791.000000</td>\n",
       "    </tr>\n",
       "    <tr>\n",
       "      <th>max</th>\n",
       "      <td>80995.000000</td>\n",
       "      <td>2011-12-09 12:50:00</td>\n",
       "      <td>38970.000000</td>\n",
       "      <td>18287.000000</td>\n",
       "    </tr>\n",
       "    <tr>\n",
       "      <th>std</th>\n",
       "      <td>218.081158</td>\n",
       "      <td>NaN</td>\n",
       "      <td>96.759853</td>\n",
       "      <td>1713.600303</td>\n",
       "    </tr>\n",
       "  </tbody>\n",
       "</table>\n",
       "</div>"
      ],
      "text/plain": [
       "            Quantity                    InvoiceDate      UnitPrice  \\\n",
       "count  541909.000000                         541909  541909.000000   \n",
       "mean        9.552250  2011-07-04 13:34:57.156386048       4.611114   \n",
       "min    -80995.000000            2010-12-01 08:26:00  -11062.060000   \n",
       "25%         1.000000            2011-03-28 11:34:00       1.250000   \n",
       "50%         3.000000            2011-07-19 17:17:00       2.080000   \n",
       "75%        10.000000            2011-10-19 11:27:00       4.130000   \n",
       "max     80995.000000            2011-12-09 12:50:00   38970.000000   \n",
       "std       218.081158                            NaN      96.759853   \n",
       "\n",
       "          CustomerID  \n",
       "count  406829.000000  \n",
       "mean    15287.690570  \n",
       "min     12346.000000  \n",
       "25%     13953.000000  \n",
       "50%     15152.000000  \n",
       "75%     16791.000000  \n",
       "max     18287.000000  \n",
       "std      1713.600303  "
      ]
     },
     "execution_count": 26,
     "metadata": {},
     "output_type": "execute_result"
    }
   ],
   "source": [
    " \n",
    "# Load dataset\n",
    "df = pd.read_excel(r\"C:\\Users\\SMART TECH\\Desktop\\AppliedNLPMaterial-master\\Online Retail.xlsx\")\n",
    "df.describe()"
   ]
  },
  {
   "cell_type": "markdown",
   "id": "6aaf973b-c526-425f-b491-8fa8007acdea",
   "metadata": {},
   "source": [
    "# Step 2: Preprocessing the Data"
   ]
  },
  {
   "cell_type": "code",
   "execution_count": null,
   "id": "403ebe04-a2cf-4dc6-944a-34de11d7e48e",
   "metadata": {},
   "outputs": [],
   "source": []
  },
  {
   "cell_type": "code",
   "execution_count": 30,
   "id": "fdacf18f-992f-4983-822e-a0222c8d8e65",
   "metadata": {},
   "outputs": [
    {
     "name": "stdout",
     "output_type": "stream",
     "text": [
      "  InvoiceNo StockCode                                lower  \\\n",
      "0    536365    85123A   white hanging heart t-light holder   \n",
      "1    536365     71053                  white metal lantern   \n",
      "2    536365    84406B       cream cupid hearts coat hanger   \n",
      "3    536365    84029G  knitted union flag hot water bottle   \n",
      "4    536365    84029E       red woolly hottie white heart.   \n",
      "\n",
      "                           Description  Quantity         InvoiceDate  \\\n",
      "0   WHITE HANGING HEART T-LIGHT HOLDER         6 2010-12-01 08:26:00   \n",
      "1                  WHITE METAL LANTERN         6 2010-12-01 08:26:00   \n",
      "2       CREAM CUPID HEARTS COAT HANGER         8 2010-12-01 08:26:00   \n",
      "3  KNITTED UNION FLAG HOT WATER BOTTLE         6 2010-12-01 08:26:00   \n",
      "4       RED WOOLLY HOTTIE WHITE HEART.         6 2010-12-01 08:26:00   \n",
      "\n",
      "   UnitPrice  CustomerID         Country  \n",
      "0       2.55     17850.0  United Kingdom  \n",
      "1       3.39     17850.0  United Kingdom  \n",
      "2       2.75     17850.0  United Kingdom  \n",
      "3       3.39     17850.0  United Kingdom  \n",
      "4       3.39     17850.0  United Kingdom  \n"
     ]
    }
   ],
   "source": [
    "print(df.head())"
   ]
  },
  {
   "cell_type": "code",
   "execution_count": 32,
   "id": "29ca61f5-1680-466a-b7b0-9688fc53d869",
   "metadata": {},
   "outputs": [
    {
     "data": {
      "text/plain": [
       "InvoiceNo           0\n",
       "StockCode           0\n",
       "lower          540093\n",
       "Description      1454\n",
       "Quantity            0\n",
       "InvoiceDate         0\n",
       "UnitPrice           0\n",
       "CustomerID     135080\n",
       "Country             0\n",
       "dtype: int64"
      ]
     },
     "execution_count": 32,
     "metadata": {},
     "output_type": "execute_result"
    }
   ],
   "source": [
    "(df.isnull().sum())"
   ]
  },
  {
   "cell_type": "code",
   "execution_count": 34,
   "id": "89889e68-94a8-46b8-b4b7-054e5adff517",
   "metadata": {},
   "outputs": [],
   "source": [
    "# Drop rows with missing invoice numbers \n",
    "df.dropna(subset=['InvoiceNo'], inplace=True) # specifies that only the InvoiceNo column should be checked for missing values\n",
    "\n",
    "# Remove leading and trailing spaces\n",
    "df['Description'] = df['Description'].str.strip() # removes unwanted spaces from the Description column."
   ]
  },
  {
   "cell_type": "code",
   "execution_count": 36,
   "id": "c28f0a20-bccb-4546-a9fc-3925857c83e1",
   "metadata": {},
   "outputs": [],
   "source": [
    "df = df[~df['InvoiceNo'].astype(str).str.startswith('C')]\n",
    "\n",
    "# Key Components:\n",
    "# df['InvoiceNo'].astype(str): This converts the InvoiceNo column to string format. This step ensures that the following string operations can be performed without errors.\n",
    "# .str.startswith('C'): This checks if the string in each InvoiceNo starts with 'C' and returns a boolean Series (True for those that do, False for those that don't).\n",
    "# ~: This is a logical NOT operator. It negates the boolean Series, so rows where InvoiceNo does not start with 'C' are selected.\n",
    "# df[...]: This filters the DataFrame, keeping only the rows where the condition is True."
   ]
  },
  {
   "cell_type": "code",
   "execution_count": 38,
   "id": "2b237fde-5f89-4526-bffb-6c8a68a5a8fd",
   "metadata": {},
   "outputs": [
    {
     "data": {
      "text/plain": [
       "array(['United Kingdom', 'France', 'Australia', 'Netherlands', 'Germany',\n",
       "       'Norway', 'EIRE', 'Switzerland', 'Spain', 'Poland', 'Portugal',\n",
       "       'Italy', 'Belgium', 'Lithuania', 'Japan', 'Iceland',\n",
       "       'Channel Islands', 'Denmark', 'Cyprus', 'Sweden', 'Finland',\n",
       "       'Austria', 'Bahrain', 'Israel', 'Greece', 'Hong Kong', 'Singapore',\n",
       "       'Lebanon', 'United Arab Emirates', 'Saudi Arabia',\n",
       "       'Czech Republic', 'Canada', 'Unspecified', 'Brazil', 'USA',\n",
       "       'European Community', 'Malta', 'RSA'], dtype=object)"
      ]
     },
     "execution_count": 38,
     "metadata": {},
     "output_type": "execute_result"
    }
   ],
   "source": [
    "# Display dataset after cleaning\n",
    "df['Country'].unique()"
   ]
  },
  {
   "cell_type": "markdown",
   "id": "33d36cc8-576f-49c0-9506-7922acb14df5",
   "metadata": {},
   "source": [
    "# Step 3: Create Transaction Baskets"
   ]
  },
  {
   "cell_type": "code",
   "execution_count": 42,
   "id": "01522637-d0ce-4419-b470-d28e4e23e8f0",
   "metadata": {},
   "outputs": [
    {
     "name": "stdout",
     "output_type": "stream",
     "text": [
      "Description   50'S CHRISTMAS GIFT BAG LARGE   DOLLY GIRL BEAKER  \\\n",
      "InvoiceNo                                                         \n",
      "536370                                    0                   0   \n",
      "536852                                    0                   0   \n",
      "536974                                    0                   0   \n",
      "537065                                    0                   0   \n",
      "537463                                    0                   0   \n",
      "\n",
      "Description   I LOVE LONDON MINI BACKPACK   NINE DRAWER OFFICE TIDY  \\\n",
      "InvoiceNo                                                             \n",
      "536370                                  0                         0   \n",
      "536852                                  0                         0   \n",
      "536974                                  0                         0   \n",
      "537065                                  0                         0   \n",
      "537463                                  0                         0   \n",
      "\n",
      "Description   SET 2 TEA TOWELS I LOVE LONDON    SPACEBOY BABY GIFT SET  \\\n",
      "InvoiceNo                                                                \n",
      "536370                                      1                        0   \n",
      "536852                                      0                        0   \n",
      "536974                                      0                        0   \n",
      "537065                                      0                        0   \n",
      "537463                                      0                        0   \n",
      "\n",
      "Description   TRELLIS COAT RACK  10 COLOUR SPACEBOY PEN  \\\n",
      "InvoiceNo                                                 \n",
      "536370                        0                       0   \n",
      "536852                        0                       0   \n",
      "536974                        0                       0   \n",
      "537065                        0                       0   \n",
      "537463                        0                       0   \n",
      "\n",
      "Description  12 COLOURED PARTY BALLOONS  12 EGG HOUSE PAINTED WOOD  ...  \\\n",
      "InvoiceNo                                                           ...   \n",
      "536370                                0                          0  ...   \n",
      "536852                                0                          0  ...   \n",
      "536974                                0                          0  ...   \n",
      "537065                                0                          0  ...   \n",
      "537463                                0                          0  ...   \n",
      "\n",
      "Description  WRAP VINTAGE PETALS  DESIGN  YELLOW COAT RACK PARIS FASHION  \\\n",
      "InvoiceNo                                                                  \n",
      "536370                                 0                               0   \n",
      "536852                                 0                               0   \n",
      "536974                                 0                               0   \n",
      "537065                                 0                               0   \n",
      "537463                                 0                               0   \n",
      "\n",
      "Description  YELLOW GIANT GARDEN THERMOMETER  YELLOW SHARK HELICOPTER  \\\n",
      "InvoiceNo                                                               \n",
      "536370                                     0                        0   \n",
      "536852                                     0                        0   \n",
      "536974                                     0                        0   \n",
      "537065                                     0                        0   \n",
      "537463                                     0                        0   \n",
      "\n",
      "Description  ZINC  STAR T-LIGHT HOLDER   ZINC FOLKART SLEIGH BELLS  \\\n",
      "InvoiceNo                                                            \n",
      "536370                                0                          0   \n",
      "536852                                0                          0   \n",
      "536974                                0                          0   \n",
      "537065                                0                          0   \n",
      "537463                                0                          0   \n",
      "\n",
      "Description  ZINC HERB GARDEN CONTAINER  ZINC METAL HEART DECORATION  \\\n",
      "InvoiceNo                                                              \n",
      "536370                                0                            0   \n",
      "536852                                0                            0   \n",
      "536974                                0                            0   \n",
      "537065                                0                            0   \n",
      "537463                                0                            0   \n",
      "\n",
      "Description  ZINC T-LIGHT HOLDER STAR LARGE  ZINC T-LIGHT HOLDER STARS SMALL  \n",
      "InvoiceNo                                                                     \n",
      "536370                                    0                                0  \n",
      "536852                                    0                                0  \n",
      "536974                                    0                                0  \n",
      "537065                                    0                                0  \n",
      "537463                                    0                                0  \n",
      "\n",
      "[5 rows x 1564 columns]\n"
     ]
    }
   ],
   "source": [
    "countries = ['France', 'United Kingdom', 'Portugal', 'Sweden']\n",
    "baskets = {}\n",
    "\n",
    "for country in countries:\n",
    "    # Filter data for the given country\n",
    "    country_data = df[df['Country'] == country]\n",
    "    \n",
    "    # Group by 'InvoiceNo' and 'Description' and sum 'Quantity'\n",
    "    basket = country_data.groupby(['InvoiceNo', 'Description'])['Quantity'].sum().unstack().fillna(0)\n",
    "    \n",
    "    # Convert quantities to binary format (1 = present, 0 = absent)\n",
    "    basket = basket.map(lambda x: 1 if x > 0 else 0)\n",
    "    \n",
    "    # Store the basket for this country\n",
    "    baskets[country] = basket\n",
    "\n",
    "# Display a sample basket for France\n",
    "print(baskets['France'].head())"
   ]
  },
  {
   "cell_type": "markdown",
   "id": "9cec6924-2b66-403f-b0cb-fc78d3dd2779",
   "metadata": {},
   "source": [
    "# Step 4: Apply the Apriori Algorithm"
   ]
  },
  {
   "cell_type": "code",
   "execution_count": 46,
   "id": "77717699-c8ff-402b-a560-3c8333d82cf5",
   "metadata": {},
   "outputs": [
    {
     "name": "stdout",
     "output_type": "stream",
     "text": [
      "    support                       itemsets\n",
      "0  0.071429  (4 TRADITIONAL SPINNING TOPS)\n",
      "1  0.096939   (ALARM CLOCK BAKELIKE GREEN)\n",
      "2  0.102041    (ALARM CLOCK BAKELIKE PINK)\n",
      "3  0.094388    (ALARM CLOCK BAKELIKE RED )\n",
      "4  0.068878   (ASSORTED COLOUR MINI CASES)\n"
     ]
    }
   ],
   "source": [
    "from mlxtend.frequent_patterns import apriori\n",
    "\n",
    "frequent_itemsets = {}\n",
    "\n",
    "for country, basket in baskets.items():\n",
    "\n",
    "    # Convert the basket to boolean values (True/False)\n",
    "    basket_bool = basket.astype(bool)\n",
    "    \n",
    "    # Apply Apriori algorithm to find frequent itemsets\n",
    "    frequent_itemsets[country] = apriori(basket_bool, min_support=0.05, use_colnames=True)\n",
    "\n",
    "# Display frequent itemsets for France\n",
    "print(frequent_itemsets['France'].head())\n"
   ]
  },
  {
   "cell_type": "markdown",
   "id": "5028af37-d754-4082-9fb2-1dfaf789001d",
   "metadata": {},
   "source": [
    "# Step 5: Generate Association Rules"
   ]
  },
  {
   "cell_type": "code",
   "execution_count": 49,
   "id": "95cdc132-3ed4-4359-ad00-a3669a74cbff",
   "metadata": {},
   "outputs": [
    {
     "name": "stdout",
     "output_type": "stream",
     "text": [
      "Empty DataFrame\n",
      "Columns: [antecedents, consequents, antecedent support, consequent support, support, confidence, lift, representativity, leverage, conviction, zhangs_metric, jaccard, certainty, kulczynski]\n",
      "Index: []\n"
     ]
    }
   ],
   "source": [
    "from mlxtend.frequent_patterns import association_rules\n",
    "\n",
    "rules = {}\n",
    "\n",
    "for country, itemsets in frequent_itemsets.items():\n",
    "    # Generate association rules with a minimum lift threshold of 1\n",
    "    country_rules = association_rules(itemsets, metric=\"lift\", min_threshold=1)\n",
    "    \n",
    "    # Filter rules involving 'Cutlery Set'\n",
    "    cutlery_rules = country_rules[country_rules['antecedents'].apply(lambda x: 'Cutlery Set' in x) | \n",
    "                                   country_rules['consequents'].apply(lambda x: 'Cutlery Set' in x)]\n",
    "    \n",
    "    rules[country] = cutlery_rules\n",
    "\n",
    "# Display rules for France\n",
    "print(rules['France'].head())\n"
   ]
  },
  {
   "cell_type": "markdown",
   "id": "6490beaf-161a-4577-af0e-19c8c37ca1d8",
   "metadata": {},
   "source": [
    "# Step 6: Sort Rules by Confidence and Lift"
   ]
  },
  {
   "cell_type": "code",
   "execution_count": 51,
   "id": "e887bdac-4e72-4cd1-88ef-7ac66fe42f7f",
   "metadata": {},
   "outputs": [
    {
     "name": "stdout",
     "output_type": "stream",
     "text": [
      "Empty DataFrame\n",
      "Columns: [antecedents, consequents, antecedent support, consequent support, support, confidence, lift, representativity, leverage, conviction, zhangs_metric, jaccard, certainty, kulczynski]\n",
      "Index: []\n"
     ]
    }
   ],
   "source": [
    "sorted_rules = {}\n",
    "\n",
    "for country, country_rules in rules.items():\n",
    "    sorted_rules[country] = country_rules.sort_values(by=['confidence', 'lift'], ascending=False)\n",
    "\n",
    "# Display sorted rules for France\n",
    "print(sorted_rules['France'].head())\n"
   ]
  },
  {
   "cell_type": "markdown",
   "id": "a2ade1f2-ac7f-4d6a-8854-b85f5c4add5a",
   "metadata": {},
   "source": [
    "# Step 7: Extract and Analyze Top Rules"
   ]
  },
  {
   "cell_type": "code",
   "execution_count": 53,
   "id": "603a0e91-1942-48d7-a711-0984342b0f3b",
   "metadata": {},
   "outputs": [
    {
     "name": "stdout",
     "output_type": "stream",
     "text": [
      "Empty DataFrame\n",
      "Columns: [antecedents, consequents, confidence, lift]\n",
      "Index: []\n"
     ]
    }
   ],
   "source": [
    "top_rules = {}\n",
    "\n",
    "for country, country_rules in sorted_rules.items():\n",
    "    top_rules[country] = country_rules[['antecedents', 'consequents', 'confidence', 'lift']].head()\n",
    "\n",
    "# Display top rules for Sweden\n",
    "print(top_rules['Sweden'])\n"
   ]
  },
  {
   "cell_type": "markdown",
   "id": "6497d3db-6315-4718-bd13-1e7baa2720ed",
   "metadata": {},
   "source": [
    "# Step 8: Interpretation of Findings"
   ]
  },
  {
   "cell_type": "code",
   "execution_count": 55,
   "id": "5e2c3672-0e57-4497-b0bc-7c2c3a40bf02",
   "metadata": {},
   "outputs": [
    {
     "name": "stdout",
     "output_type": "stream",
     "text": [
      "\n",
      "Top rules for France:\n",
      "\n",
      "Top rules for United Kingdom:\n",
      "\n",
      "Top rules for Portugal:\n",
      "\n",
      "Top rules for Sweden:\n"
     ]
    }
   ],
   "source": [
    "for country, rules_df in top_rules.items():\n",
    "    print(f\"\\nTop rules for {country}:\")\n",
    "    for _, row in rules_df.iterrows():\n",
    "        print(f\"People who buy {row['antecedents']} often also buy {row['consequents']} \"\n",
    "              f\"with confidence {row['confidence']:.2f} and lift {row['lift']:.2f}.\")\n"
   ]
  }
 ],
 "metadata": {
  "kernelspec": {
   "display_name": "Python [conda env:base] *",
   "language": "python",
   "name": "conda-base-py"
  },
  "language_info": {
   "codemirror_mode": {
    "name": "ipython",
    "version": 3
   },
   "file_extension": ".py",
   "mimetype": "text/x-python",
   "name": "python",
   "nbconvert_exporter": "python",
   "pygments_lexer": "ipython3",
   "version": "3.12.7"
  }
 },
 "nbformat": 4,
 "nbformat_minor": 5
}
