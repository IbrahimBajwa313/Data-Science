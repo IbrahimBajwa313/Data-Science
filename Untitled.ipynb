{
 "cells": [
  {
   "cell_type": "code",
   "execution_count": 7,
   "id": "8b41409d-b9d3-434e-b2cd-f09bbba2c520",
   "metadata": {},
   "outputs": [
    {
     "name": "stdout",
     "output_type": "stream",
     "text": [
      "['A', 'C', 'a', 'l']\n",
      "['A', 'C', 'a', 'l', 'b', 'd', 'e']\n"
     ]
    }
   ],
   "source": [
    "my_list = [\"A\",\"C\",\"a\"]\n",
    "my_list.append(\"l\")\n",
    "\n",
    "print(my_list)\n",
    "\n",
    "# Define the iterable you want to extend with\n",
    "aa = [\"b\", \"d\", \"e\"]\n",
    "\n",
    "# Extend the list with elements from aa\n",
    "my_list.extend(aa)\n",
    "\n",
    "# Print the extended list\n",
    "print(my_list)"
   ]
  },
  {
   "cell_type": "code",
   "execution_count": 31,
   "id": "2aedc62d-f6ec-4635-8795-05df86d4943d",
   "metadata": {},
   "outputs": [
    {
     "name": "stdout",
     "output_type": "stream",
     "text": [
      "Ibrahim Bajwa Ibrahim Bajwa\n",
      "Ibrahim Bajwa Ibrahim Bajwa Ibrahim Bajwa \n"
     ]
    }
   ],
   "source": [
    "# Task 1\n",
    "name = \"Ibrahim Bajwa\"\n",
    "\n",
    "print(name + \" \" + name)\n",
    "print((name + \" \") * 3)"
   ]
  }
 ],
 "metadata": {
  "kernelspec": {
   "display_name": "Python [conda env:base] *",
   "language": "python",
   "name": "conda-base-py"
  },
  "language_info": {
   "codemirror_mode": {
    "name": "ipython",
    "version": 3
   },
   "file_extension": ".py",
   "mimetype": "text/x-python",
   "name": "python",
   "nbconvert_exporter": "python",
   "pygments_lexer": "ipython3",
   "version": "3.12.7"
  }
 },
 "nbformat": 4,
 "nbformat_minor": 5
}
