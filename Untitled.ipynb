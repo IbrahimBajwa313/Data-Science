{
 "cells": [
  {
   "cell_type": "code",
   "execution_count": 21,
   "id": "6e7f9732-6a9d-4e06-88db-93297157a3c8",
   "metadata": {},
   "outputs": [],
   "source": [
    "def merge_strings( s1, s2):\n",
    "    mid = len(s1) // 2\n",
    "    return s1[:mid] + s2 + s1[mid:]\n",
    "    \n"
   ]
  },
  {
   "cell_type": "code",
   "execution_count": 23,
   "id": "a5d86f54-16d0-4318-b443-0afdf3681f1a",
   "metadata": {},
   "outputs": [
    {
     "name": "stdout",
     "output_type": "stream",
     "text": [
      "AmeIslamabadrica\n"
     ]
    }
   ],
   "source": [
    "s1=\"America\"\n",
    "s2=\"Islamabad\"\n",
    "print(merge_strings( s1, s2 ))"
   ]
  },
  {
   "cell_type": "code",
   "execution_count": 25,
   "id": "ecf2885d-2383-4bb8-9a43-3a35706f34de",
   "metadata": {},
   "outputs": [],
   "source": [
    "# Task 5"
   ]
  },
  {
   "cell_type": "code",
   "execution_count": 27,
   "id": "b1dece9f-d191-4ec4-aa5f-0a922ff07a9a",
   "metadata": {},
   "outputs": [],
   "source": [
    "# Creating lists for each row\n",
    "facebook = [\"Facebook\", 0.0, \"USD\", 2974676, 3.5]\n",
    "instagram = [\"Instagram\", 0.0, \"USD\", 2161558, 4.5]\n",
    "clash_of_clans = [\"Clash of Clans\", 0.0, \"USD\", 2130805, 4.5]\n",
    "temple_run = [\"Temple Run\", 0.0, \"USD\", 1724546, 4.5]\n",
    "pandora = [\"Pandora – Music & Radio\", 0.0, \"USD\", 1126879, 4.0]"
   ]
  },
  {
   "cell_type": "code",
   "execution_count": 29,
   "id": "ea7d6ed0-c51f-43d7-8d2f-7f3366fcd029",
   "metadata": {},
   "outputs": [],
   "source": [
    "ratingCounts = [facebook[3],instagram[3],clash_of_clans[3],temple_run[3],pandora[3]]"
   ]
  },
  {
   "cell_type": "code",
   "execution_count": 31,
   "id": "106c601d-d2a7-445b-a284-5e59b8631769",
   "metadata": {},
   "outputs": [
    {
     "name": "stdout",
     "output_type": "stream",
     "text": [
      "[2974676, 2161558, 2130805, 1724546, 1126879]\n"
     ]
    }
   ],
   "source": [
    "print ( ratingCounts )"
   ]
  },
  {
   "cell_type": "code",
   "execution_count": 35,
   "id": "bc34a8d6-2d50-4a52-b358-ee389f232e89",
   "metadata": {},
   "outputs": [
    {
     "name": "stdout",
     "output_type": "stream",
     "text": [
      "2023692.8\n"
     ]
    }
   ],
   "source": [
    "#Finding Average\n",
    "average_rating = sum(ratingCounts) / len(ratingCounts)\n",
    "print ( average_rating)"
   ]
  },
  {
   "cell_type": "code",
   "execution_count": 37,
   "id": "ac368fec-dccc-4793-b53f-3698332c3583",
   "metadata": {},
   "outputs": [],
   "source": [
    "# Task 6 \n",
    "course = []\n",
    "\n",
    "# Adding elements\n",
    "course.append(\"Machine Learning\")\n",
    "course.append(\"Software Construction\")\n",
    "course.append(\"Formal Methods\")"
   ]
  },
  {
   "cell_type": "code",
   "execution_count": 39,
   "id": "dd433f38-c75c-47f7-a9de-00ec4d46df5c",
   "metadata": {},
   "outputs": [],
   "source": [
    "\n",
    "# Removing 'Software Construction'\n",
    "course.remove(\"Software Construction\")"
   ]
  },
  {
   "cell_type": "code",
   "execution_count": 41,
   "id": "2cd1c70f-063e-49e5-a6b9-9771e34f9523",
   "metadata": {},
   "outputs": [],
   "source": [
    "course.insert(1,\"Artificial_Intelligence\" )"
   ]
  },
  {
   "cell_type": "code",
   "execution_count": 43,
   "id": "6fe7c70b-9a50-4e80-8dd6-f2de8aad56f6",
   "metadata": {},
   "outputs": [
    {
     "name": "stdout",
     "output_type": "stream",
     "text": [
      "['Machine Learning', 'Artificial_Intelligence', 'Formal Methods']\n"
     ]
    }
   ],
   "source": [
    "print (course )"
   ]
  },
  {
   "cell_type": "code",
   "execution_count": null,
   "id": "ca00b9af-1679-496e-a901-5c71bcdf4c51",
   "metadata": {},
   "outputs": [],
   "source": []
  },
  {
   "cell_type": "code",
   "execution_count": 57,
   "id": "ef2480d2-f6d8-4c1b-8bd7-581c71ff561f",
   "metadata": {},
   "outputs": [
    {
     "name": "stdout",
     "output_type": "stream",
     "text": [
      "['Machine Learning', 'Formal Methods']\n"
     ]
    }
   ],
   "source": [
    "selected_course = [course[0], course[2]]\n",
    "print (selected_course)"
   ]
  },
  {
   "cell_type": "code",
   "execution_count": 7,
   "id": "e98364bd-0b4f-4307-9932-b61755fad11d",
   "metadata": {},
   "outputs": [
    {
     "ename": "TypeError",
     "evalue": "string indices must be integers, not 'float'",
     "output_type": "error",
     "traceback": [
      "\u001b[1;31m---------------------------------------------------------------------------\u001b[0m",
      "\u001b[1;31mTypeError\u001b[0m                                 Traceback (most recent call last)",
      "Cell \u001b[1;32mIn[7], line 6\u001b[0m\n\u001b[0;32m      4\u001b[0m s1\u001b[38;5;241m=\u001b[39m\u001b[38;5;124m\"\u001b[39m\u001b[38;5;124mAmerica\u001b[39m\u001b[38;5;124m\"\u001b[39m\n\u001b[0;32m      5\u001b[0m s2\u001b[38;5;241m=\u001b[39m\u001b[38;5;124m\"\u001b[39m\u001b[38;5;124mIslamabad\u001b[39m\u001b[38;5;124m\"\u001b[39m\n\u001b[1;32m----> 6\u001b[0m \u001b[38;5;28mprint\u001b[39m(merge_strings( s1, s2 ))\n",
      "Cell \u001b[1;32mIn[7], line 2\u001b[0m, in \u001b[0;36mmerge_strings\u001b[1;34m(s1, s2)\u001b[0m\n\u001b[0;32m      1\u001b[0m \u001b[38;5;28;01mdef\u001b[39;00m \u001b[38;5;21mmerge_strings\u001b[39m( s1, s2):\n\u001b[1;32m----> 2\u001b[0m     \u001b[38;5;28;01mreturn\u001b[39;00m s1[\u001b[38;5;241m0\u001b[39m] \u001b[38;5;241m+\u001b[39m s2[\u001b[38;5;241m0\u001b[39m] \u001b[38;5;241m+\u001b[39m s1[\u001b[38;5;28mlen\u001b[39m(s1)\u001b[38;5;241m/\u001b[39m\u001b[38;5;241m2\u001b[39m] \u001b[38;5;241m+\u001b[39m s2[\u001b[38;5;28mlen\u001b[39m(s1)\u001b[38;5;241m/\u001b[39m\u001b[38;5;241m2\u001b[39m] \u001b[38;5;241m+\u001b[39m s1[\u001b[38;5;28mlen\u001b[39m(s1)\u001b[38;5;241m-\u001b[39m\u001b[38;5;241m1\u001b[39m] \u001b[38;5;241m+\u001b[39m s1[\u001b[38;5;28mlen\u001b[39m(s1)\u001b[38;5;241m-\u001b[39m\u001b[38;5;241m1\u001b[39m]\n",
      "\u001b[1;31mTypeError\u001b[0m: string indices must be integers, not 'float'"
     ]
    }
   ],
   "source": [
    "def merge_strings( s1, s2):\n",
    "    return s1[0] + s2[0] + s1[len(s1)/2] + s2[len(s1)/2] + s1[len(s1)-1] + s1[len(s1)-1] \n",
    "\n",
    "s1=\"America\"\n",
    "s2=\"Islamabad\"\n",
    "print(merge_strings( s1, s2 ))"
   ]
  },
  {
   "cell_type": "code",
   "execution_count": 7,
   "id": "e5822e56-4064-463b-b318-9d0e9f0112c0",
   "metadata": {},
   "outputs": [
    {
     "ename": "TypeError",
     "evalue": "string indices must be integers, not 'float'",
     "output_type": "error",
     "traceback": [
      "\u001b[1;31m---------------------------------------------------------------------------\u001b[0m",
      "\u001b[1;31mTypeError\u001b[0m                                 Traceback (most recent call last)",
      "Cell \u001b[1;32mIn[7], line 6\u001b[0m\n\u001b[0;32m      4\u001b[0m s1\u001b[38;5;241m=\u001b[39m\u001b[38;5;124m\"\u001b[39m\u001b[38;5;124mAmerica\u001b[39m\u001b[38;5;124m\"\u001b[39m\n\u001b[0;32m      5\u001b[0m s2\u001b[38;5;241m=\u001b[39m\u001b[38;5;124m\"\u001b[39m\u001b[38;5;124mIslamabad\u001b[39m\u001b[38;5;124m\"\u001b[39m\n\u001b[1;32m----> 6\u001b[0m \u001b[38;5;28mprint\u001b[39m(merge_strings( s1, s2 ))\n",
      "Cell \u001b[1;32mIn[7], line 2\u001b[0m, in \u001b[0;36mmerge_strings\u001b[1;34m(s1, s2)\u001b[0m\n\u001b[0;32m      1\u001b[0m \u001b[38;5;28;01mdef\u001b[39;00m \u001b[38;5;21mmerge_strings\u001b[39m( s1, s2):\n\u001b[1;32m----> 2\u001b[0m     \u001b[38;5;28;01mreturn\u001b[39;00m s1[\u001b[38;5;241m0\u001b[39m] \u001b[38;5;241m+\u001b[39m s2[\u001b[38;5;241m0\u001b[39m] \u001b[38;5;241m+\u001b[39m s1[\u001b[38;5;28mlen\u001b[39m(s1)\u001b[38;5;241m/\u001b[39m\u001b[38;5;241m2\u001b[39m] \u001b[38;5;241m+\u001b[39m s2[\u001b[38;5;28mlen\u001b[39m(s1)\u001b[38;5;241m/\u001b[39m\u001b[38;5;241m2\u001b[39m] \u001b[38;5;241m+\u001b[39m s1[\u001b[38;5;28mlen\u001b[39m(s1)\u001b[38;5;241m-\u001b[39m\u001b[38;5;241m1\u001b[39m] \u001b[38;5;241m+\u001b[39m s1[\u001b[38;5;28mlen\u001b[39m(s1)\u001b[38;5;241m-\u001b[39m\u001b[38;5;241m1\u001b[39m]\n",
      "\u001b[1;31mTypeError\u001b[0m: string indices must be integers, not 'float'"
     ]
    }
   ],
   "source": [
    "def merge_strings( s1, s2):\n",
    "    return s1[0] + s2[0] + s1[len(s1)/2] + s2[len(s1)/2] + s1[len(s1)-1] + s1[len(s1)-1] \n",
    "\n",
    "s1=\"America\"\n",
    "s2=\"Islamabad\"\n",
    "print(merge_strings( s1, s2 ))"
   ]
  },
  {
   "cell_type": "code",
   "execution_count": 65,
   "id": "e3ddf540-2aa3-40d4-9f89-72287773b246",
   "metadata": {},
   "outputs": [
    {
     "ename": "SyntaxError",
     "evalue": "invalid non-printable character U+00A0 (3038076077.py, line 1)",
     "output_type": "error",
     "traceback": [
      "\u001b[1;36m  Cell \u001b[1;32mIn[65], line 1\u001b[1;36m\u001b[0m\n\u001b[1;33m    import matplotlib.pyplot as plt\u001b[0m\n\u001b[1;37m          ^\u001b[0m\n\u001b[1;31mSyntaxError\u001b[0m\u001b[1;31m:\u001b[0m invalid non-printable character U+00A0\n"
     ]
    }
   ],
   "source": [
    " "
   ]
  },
  {
   "cell_type": "code",
   "execution_count": 77,
   "id": "ecc159b9-100e-465b-9fc3-f493a1829d9e",
   "metadata": {},
   "outputs": [
    {
     "data": {
      "image/png": "[encoded data removed]",
      "text/plain": [
       "<Figure size 640x480 with 1 Axes>"
      ]
     },
     "metadata": {},
     "output_type": "display_data"
    }
   ],
   "source": [
    "import matplotlib.pyplot as plt\n",
    "import numpy as np\n",
    "\n",
    "x= np.array([1,2,3,4])\n",
    "y= np.array([20, 30 , 40 , 50])\n",
    "\n",
    "# xpoints = np.array([1, 8])\n",
    "# ypoints = np.array([3, 10])\n",
    "\n",
    "plt.subplot(1,2,2)\n",
    "plt.plot(x,y, 'D')  # 'o' means plot points as dots\n",
    "plt.show()\n"
   ]
  },
  {
   "cell_type": "code",
   "execution_count": 83,
   "id": "67eb9eb0-1b30-496e-9cbe-6b9894f926bf",
   "metadata": {},
   "outputs": [
    {
     "name": "stdout",
     "output_type": "stream",
     "text": [
      "[5 7 2]\n"
     ]
    }
   ],
   "source": [
    "array1 = np.array([5, -3, 7, -9, 2, -1])\n",
    "filtered = array1 > -1\n",
    "\n",
    "print(array1[filtered])\n"
   ]
  },
  {
   "cell_type": "code",
   "execution_count": 89,
   "id": "5135612e-aa6d-4807-9676-c42f4cddf905",
   "metadata": {},
   "outputs": [
    {
     "ename": "AttributeError",
     "evalue": "module 'pandas' has no attribute 'series'",
     "output_type": "error",
     "traceback": [
      "\u001b[1;31m---------------------------------------------------------------------------\u001b[0m",
      "\u001b[1;31mAttributeError\u001b[0m                            Traceback (most recent call last)",
      "Cell \u001b[1;32mIn[89], line 5\u001b[0m\n\u001b[0;32m      2\u001b[0m sales \u001b[38;5;241m=\u001b[39m [\u001b[38;5;241m300\u001b[39m, \u001b[38;5;241m500\u001b[39m, \u001b[38;5;241m700\u001b[39m, \u001b[38;5;241m600\u001b[39m]\n\u001b[0;32m      3\u001b[0m index\u001b[38;5;241m=\u001b[39m[\u001b[38;5;124m\"\u001b[39m\u001b[38;5;124mMonday\u001b[39m\u001b[38;5;124m\"\u001b[39m, \u001b[38;5;124m\"\u001b[39m\u001b[38;5;124mTuesday\u001b[39m\u001b[38;5;124m\"\u001b[39m, \u001b[38;5;124m\"\u001b[39m\u001b[38;5;124mWednesday\u001b[39m\u001b[38;5;124m\"\u001b[39m, \u001b[38;5;124m\"\u001b[39m\u001b[38;5;124mThursday\u001b[39m\u001b[38;5;124m\"\u001b[39m]\n\u001b[1;32m----> 5\u001b[0m sales_series \u001b[38;5;241m=\u001b[39m pd\u001b[38;5;241m.\u001b[39mseries(sales,indes)\n\u001b[0;32m      6\u001b[0m \u001b[38;5;28mprint\u001b[39m ( sales_series)\n",
      "\u001b[1;31mAttributeError\u001b[0m: module 'pandas' has no attribute 'series'"
     ]
    }
   ],
   "source": [
    "import pandas as pd\n",
    "sales = [300, 500, 700, 600]\n",
    "index=[\"Monday\", \"Tuesday\", \"Wednesday\", \"Thursday\"]\n",
    "\n",
    "sales_series = pd.series(sales,indes)\n",
    "print ( sales_series)"
   ]
  },
  {
   "cell_type": "code",
   "execution_count": null,
   "id": "848ff8dc-c603-48a0-9720-16ff8012cc89",
   "metadata": {},
   "outputs": [],
   "source": []
  },
  {
   "cell_type": "code",
   "execution_count": 7,
   "id": "dd7f2b64-586b-4e74-9f97-4a40dede6610",
   "metadata": {},
   "outputs": [
    {
     "ename": "TypeError",
     "evalue": "string indices must be integers, not 'float'",
     "output_type": "error",
     "traceback": [
      "\u001b[1;31m---------------------------------------------------------------------------\u001b[0m",
      "\u001b[1;31mTypeError\u001b[0m                                 Traceback (most recent call last)",
      "Cell \u001b[1;32mIn[7], line 6\u001b[0m\n\u001b[0;32m      4\u001b[0m s1\u001b[38;5;241m=\u001b[39m\u001b[38;5;124m\"\u001b[39m\u001b[38;5;124mAmerica\u001b[39m\u001b[38;5;124m\"\u001b[39m\n\u001b[0;32m      5\u001b[0m s2\u001b[38;5;241m=\u001b[39m\u001b[38;5;124m\"\u001b[39m\u001b[38;5;124mIslamabad\u001b[39m\u001b[38;5;124m\"\u001b[39m\n\u001b[1;32m----> 6\u001b[0m \u001b[38;5;28mprint\u001b[39m(merge_strings( s1, s2 ))\n",
      "Cell \u001b[1;32mIn[7], line 2\u001b[0m, in \u001b[0;36mmerge_strings\u001b[1;34m(s1, s2)\u001b[0m\n\u001b[0;32m      1\u001b[0m \u001b[38;5;28;01mdef\u001b[39;00m \u001b[38;5;21mmerge_strings\u001b[39m( s1, s2):\n\u001b[1;32m----> 2\u001b[0m     \u001b[38;5;28;01mreturn\u001b[39;00m s1[\u001b[38;5;241m0\u001b[39m] \u001b[38;5;241m+\u001b[39m s2[\u001b[38;5;241m0\u001b[39m] \u001b[38;5;241m+\u001b[39m s1[\u001b[38;5;28mlen\u001b[39m(s1)\u001b[38;5;241m/\u001b[39m\u001b[38;5;241m2\u001b[39m] \u001b[38;5;241m+\u001b[39m s2[\u001b[38;5;28mlen\u001b[39m(s1)\u001b[38;5;241m/\u001b[39m\u001b[38;5;241m2\u001b[39m] \u001b[38;5;241m+\u001b[39m s1[\u001b[38;5;28mlen\u001b[39m(s1)\u001b[38;5;241m-\u001b[39m\u001b[38;5;241m1\u001b[39m] \u001b[38;5;241m+\u001b[39m s1[\u001b[38;5;28mlen\u001b[39m(s1)\u001b[38;5;241m-\u001b[39m\u001b[38;5;241m1\u001b[39m]\n",
      "\u001b[1;31mTypeError\u001b[0m: string indices must be integers, not 'float'"
     ]
    }
   ],
   "source": [
    "def merge_strings( s1, s2):\n",
    "    return s1[0] + s2[0] + s1[len(s1)/2] + s2[len(s1)/2] + s1[len(s1)-1] + s1[len(s1)-1] \n",
    "\n",
    "s1=\"America\"\n",
    "s2=\"Islamabad\"\n",
    "print(merge_strings( s1, s2 ))"
   ]
  }
 ],
 "metadata": {
  "kernelspec": {
   "display_name": "Python [conda env:base] *",
   "language": "python",
   "name": "conda-base-py"
  },
  "language_info": {
   "codemirror_mode": {
    "name": "ipython",
    "version": 3
   },
   "file_extension": ".py",
   "mimetype": "text/x-python",
   "name": "python",
   "nbconvert_exporter": "python",
   "pygments_lexer": "ipython3",
   "version": "3.12.7"
  }
 },
 "nbformat": 4,
 "nbformat_minor": 5
}
