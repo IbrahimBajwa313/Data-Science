{
 "cells": [
  {
   "cell_type": "markdown",
   "id": "d6c04538-5266-4793-a479-5850c85d3878",
   "metadata": {},
   "source": [
    " # Task 2: Stratified K-Fold for Imbalanced Data"
   ]
  },
  {
   "cell_type": "code",
   "execution_count": 9,
   "id": "e0345f07-8f08-4050-8232-b581e0375ebf",
   "metadata": {},
   "outputs": [
    {
     "name": "stdout",
     "output_type": "stream",
     "text": [
      "Shape of X: (5572, 8749)\n",
      "First 5 labels: [0 0 1 0 0]\n"
     ]
    },
    {
     "data": {
      "text/html": [
       "<div>\n",
       "<style scoped>\n",
       "    .dataframe tbody tr th:only-of-type {\n",
       "        vertical-align: middle;\n",
       "    }\n",
       "\n",
       "    .dataframe tbody tr th {\n",
       "        vertical-align: top;\n",
       "    }\n",
       "\n",
       "    .dataframe thead th {\n",
       "        text-align: right;\n",
       "    }\n",
       "</style>\n",
       "<table border=\"1\" class=\"dataframe\">\n",
       "  <thead>\n",
       "    <tr style=\"text-align: right;\">\n",
       "      <th></th>\n",
       "      <th>label</th>\n",
       "      <th>text</th>\n",
       "    </tr>\n",
       "  </thead>\n",
       "  <tbody>\n",
       "    <tr>\n",
       "      <th>0</th>\n",
       "      <td>0</td>\n",
       "      <td>Go until jurong point, crazy.. Available only ...</td>\n",
       "    </tr>\n",
       "    <tr>\n",
       "      <th>1</th>\n",
       "      <td>0</td>\n",
       "      <td>Ok lar... Joking wif u oni...</td>\n",
       "    </tr>\n",
       "    <tr>\n",
       "      <th>2</th>\n",
       "      <td>1</td>\n",
       "      <td>Free entry in 2 a wkly comp to win FA Cup fina...</td>\n",
       "    </tr>\n",
       "    <tr>\n",
       "      <th>3</th>\n",
       "      <td>0</td>\n",
       "      <td>U dun say so early hor... U c already then say...</td>\n",
       "    </tr>\n",
       "    <tr>\n",
       "      <th>4</th>\n",
       "      <td>0</td>\n",
       "      <td>Nah I don't think he goes to usf, he lives aro...</td>\n",
       "    </tr>\n",
       "  </tbody>\n",
       "</table>\n",
       "</div>"
      ],
      "text/plain": [
       "   label                                               text\n",
       "0      0  Go until jurong point, crazy.. Available only ...\n",
       "1      0                      Ok lar... Joking wif u oni...\n",
       "2      1  Free entry in 2 a wkly comp to win FA Cup fina...\n",
       "3      0  U dun say so early hor... U c already then say...\n",
       "4      0  Nah I don't think he goes to usf, he lives aro..."
      ]
     },
     "execution_count": 9,
     "metadata": {},
     "output_type": "execute_result"
    }
   ],
   "source": [
    "import pandas as pd\n",
    "import numpy as np\n",
    "from sklearn.feature_extraction.text import TfidfVectorizer\n",
    "from sklearn.model_selection import StratifiedKFold\n",
    "from sklearn.naive_bayes import MultinomialNB\n",
    "from sklearn.metrics import accuracy_score\n",
    "\n",
    "# 1. Load Data — the file has no headers, so add your own after reading\n",
    "df = pd.read_csv(\n",
    "    r\"C:\\Users\\SMART TECH\\Desktop\\AppliedNLPMaterial-master\\SMSSpamCollection\",\n",
    "    sep='\\t', \n",
    "    encoding='latin-1',\n",
    "    header=None  # Important: no header in file\n",
    ")\n",
    "\n",
    "# Rename the columns manually\n",
    "df.columns = ['label', 'text']\n",
    "\n",
    "# Convert labels to binary: ham = 0, spam = 1\n",
    "df['label'] = df['label'].map({'ham': 0, 'spam': 1})\n",
    "\n",
    "# 2. Feature Extraction\n",
    "vectorizer = TfidfVectorizer()\n",
    "X = vectorizer.fit_transform(df['text'])\n",
    "y = df['label'].values\n",
    "\n",
    "# Just to confirm it works\n",
    "print(\"Shape of X:\", X.shape)\n",
    "print(\"First 5 labels:\", y[:5])\n",
    "df.head()\n"
   ]
  },
  {
   "cell_type": "markdown",
   "id": "453efd5a-113d-457d-a1c2-e4a15dcc9bd3",
   "metadata": {},
   "source": [
    "\n",
    " # 2. Apply Stratified K-Fold (K=5)"
   ]
  },
  {
   "cell_type": "code",
   "execution_count": 13,
   "id": "5943bdc8-932c-4a7f-8841-6c5075ef9a78",
   "metadata": {},
   "outputs": [],
   "source": [
    "from sklearn.model_selection import StratifiedKFold\n",
    "from sklearn.naive_bayes import MultinomialNB\n",
    "from sklearn.metrics import accuracy_score\n",
    "import numpy as np\n"
   ]
  },
  {
   "cell_type": "code",
   "execution_count": 15,
   "id": "b314bad4-dbed-47d6-9377-e78cd31d7448",
   "metadata": {},
   "outputs": [
    {
     "name": "stdout",
     "output_type": "stream",
     "text": [
      "\n",
      "=== Stratified K-Fold ===\n"
     ]
    }
   ],
   "source": [
    "# 5-Fold Stratified Cross-Validation\n",
    "skf = StratifiedKFold(n_splits=5, shuffle=True, random_state=42)\n",
    "fold = 1\n",
    "accuracies = []\n",
    "\n",
    "print(\"\\n=== Stratified K-Fold ===\")"
   ]
  },
  {
   "cell_type": "code",
   "execution_count": 17,
   "id": "5458f524-7708-4bfc-b6c0-54f308c1b59e",
   "metadata": {},
   "outputs": [
    {
     "name": "stdout",
     "output_type": "stream",
     "text": [
      "\n",
      "Fold 1 - Class Distribution: {0: 965, 1: 150}\n",
      "Fold 1 Accuracy: 0.9659\n",
      "\n",
      "Fold 2 - Class Distribution: {0: 965, 1: 150}\n",
      "Fold 2 Accuracy: 0.9605\n",
      "\n",
      "Fold 3 - Class Distribution: {0: 965, 1: 149}\n",
      "Fold 3 Accuracy: 0.9551\n",
      "\n",
      "Fold 4 - Class Distribution: {0: 965, 1: 149}\n",
      "Fold 4 Accuracy: 0.9578\n",
      "\n",
      "Fold 5 - Class Distribution: {0: 965, 1: 149}\n",
      "Fold 5 Accuracy: 0.9623\n",
      "\n",
      "Average Accuracy over 5 folds: 0.9603\n"
     ]
    }
   ],
   "source": [
    "for train_index, test_index in skf.split(X, y):\n",
    "    X_train, X_test = X[train_index], X[test_index]\n",
    "    y_train, y_test = y[train_index], y[test_index]\n",
    "\n",
    "    # Print class distribution in this fold\n",
    "    unique, counts = np.unique(y_test, return_counts=True)\n",
    "    print(f\"\\nFold {fold} - Class Distribution:\", dict(zip(unique, counts)))\n",
    "\n",
    "    # Train model\n",
    "    clf = MultinomialNB()\n",
    "    clf.fit(X_train, y_train)\n",
    "\n",
    "    # Evaluate\n",
    "    y_pred = clf.predict(X_test)\n",
    "    acc = accuracy_score(y_test, y_pred)\n",
    "    accuracies.append(acc)\n",
    "    print(f\"Fold {fold} Accuracy: {acc:.4f}\")\n",
    "    fold += 1\n",
    "\n",
    "print(f\"\\nAverage Accuracy over 5 folds: {np.mean(accuracies):.4f}\")"
   ]
  },
  {
   "cell_type": "markdown",
   "id": "c212e8d9-e210-486d-b5f3-e6d18f1a2287",
   "metadata": {},
   "source": [
    " # Task 3: Compare Train-Test Split vs K-Fold"
   ]
  },
  {
   "cell_type": "code",
   "execution_count": 20,
   "id": "351f398f-af32-4054-8671-879ad9e8cd32",
   "metadata": {},
   "outputs": [
    {
     "name": "stdout",
     "output_type": "stream",
     "text": [
      "\n",
      "=== Train-Test Split ===\n",
      "Accuracy (80/20 split): 0.9605\n",
      "\n",
      "=== 5-Fold Cross-Validation ===\n",
      "Fold Accuracies: [0.96502242 0.95426009 0.95780969 0.9551167  0.96229803]\n",
      "Mean CV Accuracy: 0.9589\n"
     ]
    }
   ],
   "source": [
    "from sklearn.model_selection import train_test_split, cross_val_score\n",
    "\n",
    "# Train-Test Split\n",
    "X_train, X_test, y_train, y_test = train_test_split(X, y, test_size=0.2, stratify=y, random_state=42)\n",
    "\n",
    "clf_split = MultinomialNB()\n",
    "clf_split.fit(X_train, y_train)\n",
    "y_pred_split = clf_split.predict(X_test)\n",
    "split_accuracy = accuracy_score(y_test, y_pred_split)\n",
    "\n",
    "print(\"\\n=== Train-Test Split ===\")\n",
    "print(f\"Accuracy (80/20 split): {split_accuracy:.4f}\")\n",
    "\n",
    "# Cross-Validation (5-Fold)\n",
    "clf_cv = MultinomialNB()\n",
    "cv_scores = cross_val_score(clf_cv, X, y, cv=5, scoring='accuracy')\n",
    "\n",
    "print(\"\\n=== 5-Fold Cross-Validation ===\")\n",
    "print(\"Fold Accuracies:\", cv_scores)\n",
    "print(f\"Mean CV Accuracy: {np.mean(cv_scores):.4f}\")\n"
   ]
  }
 ],
 "metadata": {
  "kernelspec": {
   "display_name": "Python [conda env:base] *",
   "language": "python",
   "name": "conda-base-py"
  },
  "language_info": {
   "codemirror_mode": {
    "name": "ipython",
    "version": 3
   },
   "file_extension": ".py",
   "mimetype": "text/x-python",
   "name": "python",
   "nbconvert_exporter": "python",
   "pygments_lexer": "ipython3",
   "version": "3.12.7"
  }
 },
 "nbformat": 4,
 "nbformat_minor": 5
}
